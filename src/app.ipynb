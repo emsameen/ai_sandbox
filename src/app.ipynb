{
 "cells": [
  {
   "cell_type": "code",
   "execution_count": 20,
   "metadata": {},
   "outputs": [],
   "source": [
    "from __future__ import print_function\n",
    "import torch"
   ]
  },
  {
   "cell_type": "code",
   "execution_count": 23,
   "metadata": {},
   "outputs": [
    {
     "name": "stdout",
     "output_type": "stream",
     "text": [
      "Tensor:  0 , Size:  3  elements with values:  tensor([0.0546, 0.7387, 0.4833])\n",
      "Tensor:  1 , Size:  3  elements with values:  tensor([0.5997, 0.0013, 0.7108])\n",
      "Tensor:  2 , Size:  3  elements with values:  tensor([0.6820, 0.7139, 0.5640])\n",
      "Tensor:  3 , Size:  3  elements with values:  tensor([0.7921, 0.7564, 0.5324])\n",
      "Tensor:  4 , Size:  3  elements with values:  tensor([0.3674, 0.3205, 0.8684])\n"
     ]
    }
   ],
   "source": [
    "x = torch.rand(5, 3)\n",
    "for i in range(len(x)):\n",
    "    print (\"Tensor: \", i, \", Size: \" , len(x[i]), \" elements with values: \",  x[i])"
   ]
  },
  {
   "cell_type": "code",
   "execution_count": null,
   "metadata": {},
   "outputs": [],
   "source": []
  },
  {
   "cell_type": "code",
   "execution_count": null,
   "metadata": {},
   "outputs": [],
   "source": []
  }
 ],
 "metadata": {
  "kernelspec": {
   "display_name": "Python 3",
   "language": "python",
   "name": "python3"
  },
  "language_info": {
   "codemirror_mode": {
    "name": "ipython",
    "version": 3
   },
   "file_extension": ".py",
   "mimetype": "text/x-python",
   "name": "python",
   "nbconvert_exporter": "python",
   "pygments_lexer": "ipython3",
   "version": "3.6.9"
  }
 },
 "nbformat": 4,
 "nbformat_minor": 2
}
