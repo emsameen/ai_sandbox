{
 "cells": [
  {
   "cell_type": "code",
   "execution_count": 2,
   "metadata": {},
   "outputs": [],
   "source": [
    "from __future__ import print_function\n",
    "import torch\n",
    "import numpy as np"
   ]
  },
  {
   "cell_type": "markdown",
   "metadata": {},
   "source": [
    "# PyTorch"
   ]
  },
  {
   "cell_type": "code",
   "execution_count": 3,
   "metadata": {},
   "outputs": [
    {
     "name": "stdout",
     "output_type": "stream",
     "text": [
      "Tensor:  0 , Size:  3  elements with values:  tensor([0.4290, 0.7677, 0.4980])\n",
      "Tensor:  1 , Size:  3  elements with values:  tensor([0.4782, 0.5663, 0.0401])\n",
      "Tensor:  2 , Size:  3  elements with values:  tensor([0.2483, 0.7549, 0.3830])\n",
      "Tensor:  3 , Size:  3  elements with values:  tensor([0.1360, 0.4938, 0.1249])\n",
      "Tensor:  4 , Size:  3  elements with values:  tensor([0.1018, 0.7374, 0.6570])\n"
     ]
    }
   ],
   "source": [
    "x = torch.rand(5, 3)\n",
    "for i in range(len(x)):\n",
    "    print (\"Tensor: \", i, \", Size: \" , len(x[i]), \" elements with values: \",  x[i])"
   ]
  },
  {
   "cell_type": "markdown",
   "metadata": {},
   "source": [
    "# Numpy Tensors Representation"
   ]
  },
  {
   "cell_type": "markdown",
   "metadata": {},
   "source": [
    "![title](../res/img/tensor.jpeg)"
   ]
  },
  {
   "cell_type": "markdown",
   "metadata": {},
   "source": []
  },
  {
   "cell_type": "code",
   "execution_count": 8,
   "metadata": {},
   "outputs": [
    {
     "name": "stdout",
     "output_type": "stream",
     "text": [
      "42\n",
      "A scalar is of rank 0\n",
      "################################################\n",
      "[1 1 2 3 5 8]\n",
      "A vecor is of rank 1\n",
      "################################################\n",
      "[[1 4 7]\n",
      " [2 5 8]\n",
      " [3 6 9]]\n",
      "A matrix is of rank 2\n"
     ]
    }
   ],
   "source": [
    "# Numpy Presentation of Tensors\n",
    "scalar  = np.array(42)\n",
    "\n",
    "print(scalar)\n",
    "print('A scalar is of rank %d' %(scalar.ndim))\n",
    "print('################################################')\n",
    "vecor = np.array([1, 1, 2, 3, 5, 8])\n",
    "print(vecor)\n",
    "print('A vecor is of rank %d' %(vecor.ndim))\n",
    "print('################################################')\n",
    "\n",
    "matrix  = np.array([[1, 4, 7],\n",
    "              [2, 5, 8],\n",
    "              [3, 6, 9]])\n",
    "print(matrix )\n",
    "print('A matrix is of rank %d' %(matrix.ndim))\n",
    "print('################################################')\n",
    "\n",
    "tensor = np.array([[[1, 4, 7],\n",
    "               [2, 5, 8],\n",
    "               [3, 6, 9]],\n",
    "              [[10, 40, 70],\n",
    "               [20, 50, 80],\n",
    "               [30, 60, 90]],\n",
    "              [[100, 400, 700],\n",
    "               [200, 500, 800],\n",
    "               [300, 600, 900]]])\n",
    "print(tensor)\n",
    "print('This tensor is of rank %d' %(tensor.ndim))\n",
    "print('################################################')"
   ]
  }
 ],
 "metadata": {
  "kernelspec": {
   "display_name": "Python 3",
   "language": "python",
   "name": "python3"
  },
  "language_info": {
   "codemirror_mode": {
    "name": "ipython",
    "version": 3
   },
   "file_extension": ".py",
   "mimetype": "text/x-python",
   "name": "python",
   "nbconvert_exporter": "python",
   "pygments_lexer": "ipython3",
   "version": "3.6.9"
  }
 },
 "nbformat": 4,
 "nbformat_minor": 2
}
