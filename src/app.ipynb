{
 "cells": [
  {
   "cell_type": "code",
   "execution_count": 1,
   "metadata": {},
   "outputs": [],
   "source": [
    "from __future__ import print_function\n",
    "import torch\n",
    "import numpy as np"
   ]
  },
  {
   "cell_type": "markdown",
   "metadata": {},
   "source": [
    "# PyTorch"
   ]
  },
  {
   "cell_type": "code",
   "execution_count": 8,
   "metadata": {},
   "outputs": [
    {
     "name": "stdout",
     "output_type": "stream",
     "text": [
      "1.1.0a0+b457266\n",
      "Tensor:  0 , Size:  3  elements with values:  tensor([0.4393, 0.6856, 0.2069])\n",
      "Tensor:  1 , Size:  3  elements with values:  tensor([0.8861, 0.1582, 0.5716])\n",
      "Tensor:  2 , Size:  3  elements with values:  tensor([0.0246, 0.2220, 0.9749])\n",
      "Tensor:  3 , Size:  3  elements with values:  tensor([0.3394, 0.6250, 0.9662])\n",
      "Tensor:  4 , Size:  3  elements with values:  tensor([0.1441, 0.6867, 0.1200])\n"
     ]
    }
   ],
   "source": [
    "print(torch.__version__)\n",
    "\n",
    "x = torch.rand(5, 3)\n",
    "for i in range(len(x)):\n",
    "    print (\"Tensor: \", i, \", Size: \" , len(x[i]), \" elements with values: \",  x[i])"
   ]
  },
  {
   "cell_type": "markdown",
   "metadata": {},
   "source": [
    "# Numpy Tensors Representation"
   ]
  },
  {
   "cell_type": "markdown",
   "metadata": {},
   "source": [
    "![title](../res/img/tensor.jpeg)"
   ]
  },
  {
   "cell_type": "code",
   "execution_count": 5,
   "metadata": {},
   "outputs": [
    {
     "name": "stdout",
     "output_type": "stream",
     "text": [
      "42\n",
      "A scalar is of rank 0\n",
      "################################################\n",
      "[1 1 2 3 5 8]\n",
      "A vecor is of rank 1\n",
      "################################################\n",
      "[[1 4 7]\n",
      " [2 5 8]\n",
      " [3 6 9]]\n",
      "A matrix is of rank 2\n",
      "################################################\n",
      "[[[  1   4   7]\n",
      "  [  2   5   8]\n",
      "  [  3   6   9]]\n",
      "\n",
      " [[ 10  40  70]\n",
      "  [ 20  50  80]\n",
      "  [ 30  60  90]]\n",
      "\n",
      " [[100 400 700]\n",
      "  [200 500 800]\n",
      "  [300 600 900]]]\n",
      "This tensor is of rank 3\n",
      "################################################\n"
     ]
    }
   ],
   "source": [
    "# Numpy Presentation of Tensors\n",
    "scalar  = np.array(42)\n",
    "\n",
    "print(scalar)\n",
    "print('A scalar is of rank %d' %(scalar.ndim))\n",
    "print('################################################')\n",
    "vecor = np.array([1, 1, 2, 3, 5, 8])\n",
    "print(vecor)\n",
    "print('A vecor is of rank %d' %(vecor.ndim))\n",
    "print('################################################')\n",
    "\n",
    "matrix  = np.array([[1, 4, 7],\n",
    "              [2, 5, 8],\n",
    "              [3, 6, 9]])\n",
    "print(matrix )\n",
    "print('A matrix is of rank %d' %(matrix.ndim))\n",
    "print('################################################')\n",
    "\n",
    "tensor = np.array([[[1, 4, 7],\n",
    "               [2, 5, 8],\n",
    "               [3, 6, 9]],\n",
    "              [[10, 40, 70],\n",
    "               [20, 50, 80],\n",
    "               [30, 60, 90]],\n",
    "              [[100, 400, 700],\n",
    "               [200, 500, 800],\n",
    "               [300, 600, 900]]])\n",
    "print(tensor)\n",
    "print('This tensor is of rank %d' %(tensor.ndim))\n",
    "print('################################################')"
   ]
  },
  {
   "cell_type": "code",
   "execution_count": null,
   "metadata": {},
   "outputs": [],
   "source": []
  },
  {
   "cell_type": "code",
   "execution_count": null,
   "metadata": {},
   "outputs": [],
   "source": []
  }
 ],
 "metadata": {
  "kernelspec": {
   "display_name": "Python 3",
   "language": "python",
   "name": "python3"
  },
  "language_info": {
   "codemirror_mode": {
    "name": "ipython",
    "version": 3
   },
   "file_extension": ".py",
   "mimetype": "text/x-python",
   "name": "python",
   "nbconvert_exporter": "python",
   "pygments_lexer": "ipython3",
   "version": "3.6.9"
  }
 },
 "nbformat": 4,
 "nbformat_minor": 2
}
